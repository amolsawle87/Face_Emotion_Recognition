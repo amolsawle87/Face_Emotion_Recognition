{
 "cells": [
  {
   "cell_type": "code",
   "execution_count": 1,
   "id": "ffc78df7",
   "metadata": {},
   "outputs": [],
   "source": [
    "import os  \n",
    "import cv2  \n",
    "import numpy as np  \n",
    "from keras.models import model_from_json  \n",
    "from keras.preprocessing import image "
   ]
  },
  {
   "cell_type": "code",
   "execution_count": 2,
   "id": "2a02ea11",
   "metadata": {},
   "outputs": [],
   "source": [
    "#load model  \n",
    "model = model_from_json(open(\"fer.json\", \"r\").read())  \n",
    "#load weights  \n",
    "model.load_weights('fer.h5') "
   ]
  },
  {
   "cell_type": "code",
   "execution_count": 3,
   "id": "d4803087",
   "metadata": {},
   "outputs": [],
   "source": [
    "#pip install opencv-contrib-python"
   ]
  },
  {
   "cell_type": "code",
   "execution_count": 4,
   "id": "61a34a16",
   "metadata": {},
   "outputs": [],
   "source": [
    "face_haar_cascade = cv2.CascadeClassifier(cv2.data.haarcascades+ 'haarcascade_frontalface_default.xml')  "
   ]
  },
  {
   "cell_type": "code",
   "execution_count": 5,
   "id": "effe3fc2",
   "metadata": {},
   "outputs": [],
   "source": [
    "# captures frame and returns boolean value and captured image  \n",
    " \n",
    "#test_img=cv2.imread('photo.jpg')# captures frame and returns boolean value and captured image  \n",
    "test_img=cv2.imread('many.jpg')\n",
    "#test_img=cv2.imread('images.jpeg')\n",
    "#test_img=cv2.imread('download 2.jpeg')\n",
    "\n",
    "gray_img= cv2.cvtColor(test_img, cv2.COLOR_BGR2GRAY)  \n",
    "  \n",
    "faces_detected = face_haar_cascade.detectMultiScale(gray_img, 1.32, 5)  "
   ]
  },
  {
   "cell_type": "code",
   "execution_count": 6,
   "id": "702742ed",
   "metadata": {},
   "outputs": [],
   "source": [
    "for (x,y,w,h) in faces_detected:  \n",
    "        cv2.rectangle(test_img,(x,y),(x+w,y+h),(0,255,0),thickness=5)  \n",
    "        roi_gray=gray_img[y:y+w,x:x+h]#cropping region of interest i.e. face area from  image  \n",
    "        roi_gray=cv2.resize(roi_gray,(48,48))  \n",
    "        img_pixels = image.img_to_array(roi_gray)  \n",
    "        img_pixels = np.expand_dims(img_pixels, axis = 0)  \n",
    "        img_pixels /= 255  \n",
    "  \n",
    "        predictions = model.predict(img_pixels)  \n",
    "  \n",
    "        #find max indexed array  \n",
    "        max_index = np.argmax(predictions[0])  \n",
    "  \n",
    "        emotions = ('angry', 'disgust', 'fear', 'happy', 'sad', 'surprise', 'neutral')  \n",
    "        predicted_emotion = emotions[max_index]  \n",
    "  \n",
    "        cv2.putText(test_img, predicted_emotion, (int(x), int(y)), cv2.FONT_HERSHEY_SIMPLEX, 1, (0,0,255), 2)  \n",
    "  \n",
    "        cv2.imshow('Facial emotion analysis ',test_img)\n",
    "        if cv2.waitKey(10) == ord('q'):\n",
    "            \n",
    "            break\n",
    "    \n",
    "    #wait until 'q' key is pressed  \n",
    "      \n",
    "  "
   ]
  },
  {
   "cell_type": "code",
   "execution_count": null,
   "id": "e70fc38c",
   "metadata": {},
   "outputs": [],
   "source": []
  }
 ],
 "metadata": {
  "kernelspec": {
   "display_name": "Python 3",
   "language": "python",
   "name": "python3"
  },
  "language_info": {
   "codemirror_mode": {
    "name": "ipython",
    "version": 3
   },
   "file_extension": ".py",
   "mimetype": "text/x-python",
   "name": "python",
   "nbconvert_exporter": "python",
   "pygments_lexer": "ipython3",
   "version": "3.8.10"
  }
 },
 "nbformat": 4,
 "nbformat_minor": 5
}
